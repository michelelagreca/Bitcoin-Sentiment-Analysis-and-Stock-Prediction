{
 "cells": [
  {
   "cell_type": "markdown",
   "metadata": {},
   "source": [
    "# 1 - Bitcoin: Sentiment Analysis and Stock Prediction"
   ]
  },
  {
   "cell_type": "markdown",
   "metadata": {},
   "source": [
    "## What is Bitcoin?\n",
    "\"People use different terminologies to define Bitcoin. Some people call it a cryptocurrency, while others use digital currency. Some individuals refer to Bitcoin as a virtual currency. But, all these terms are correct. That's because Bitcoin is digital money. It's a form of electronic cash or money. That means you can't have physical Bitcoins in your pocket. Ideally, Bitcoin resides in computers and mobile devices only.<br>\n",
    "\n",
    "Bitcoin is one of the pioneer cryptocurrencies to use blockchain technology. Since the introduction of this cryptocurrency in 2009, no hacker has managed to infiltrate it. And this has proven to most investors that it's a safe investment. What's more, the meteoric rise of Bitcoin's value has captured many investors' attention.<br>\n",
    "\n",
    "Bitcoin has also proven to be a valuable value storage asset. That's why some people compare it with gold. During an economic crisis, Bitcoin has proven its ability to withstand challenges better than fiat money. Thus, you can use this cryptocurrency to store value during a financial crisis\" [1].<br>"
   ]
  },
  {
   "cell_type": "markdown",
   "metadata": {},
   "source": [
    "## The project\n",
    "In this project, the main point is the importance of Bicoin in the today's world. Particularly, the project is divided in two phase:\n",
    "* A __sentiment analysis__ of tweets about Bitcoin, to make a comparison between the price and the historical data of the cryptocurrency and the general idea of people about it, taking twitter as mirror of their thoughts.\n",
    "* A __stock prediction__ using Machine Learning and regression."
   ]
  },
  {
   "cell_type": "markdown",
   "metadata": {},
   "source": [
    "# 2 - Sentiment Analysis"
   ]
  },
  {
   "cell_type": "markdown",
   "metadata": {},
   "source": [
    "## Preparation"
   ]
  },
  {
   "cell_type": "markdown",
   "metadata": {},
   "source": [
    "To start this first phase of the project, some steps are necessary.<br>\n",
    "\n",
    "Firstly, obtaining Bitcoin data and visualizing it is a good choice, in order to take a time interval for the analysis. __Investing.com__ and its API will be used to get all the data needed for the project.<br>"
   ]
  },
  {
   "cell_type": "code",
   "execution_count": 5,
   "metadata": {},
   "outputs": [],
   "source": [
    "import requests\n",
    "\n",
    "url = \"https://investing-cryptocurrency-markets.p.rapidapi.com/coins/search\"\n",
    "\n",
    "querystring = {\"string\":\"bitcoin\",\"time_utc_offset\":\"28800\",\"lang_ID\":\"1\"}\n",
    "\n",
    "headers = {\n",
    "    'x-rapidapi-key': \"66081a705amsh4d45e344ba26380p11e931jsn67415eecbe4f\",\n",
    "    'x-rapidapi-host': \"investing-cryptocurrency-markets.p.rapidapi.com\"\n",
    "    }\n",
    "\n",
    "response = requests.request(\"GET\", url, headers=headers, params=querystring)"
   ]
  },
  {
   "cell_type": "code",
   "execution_count": 13,
   "metadata": {},
   "outputs": [
    {
     "data": {
      "text/plain": [
       "[{'pair_ID': 945629,\n",
       "  'search_main_text': 'BTC/USD',\n",
       "  'search_main_subtext': 'Bitfinex',\n",
       "  'search_main_longtext': 'BTC/USD',\n",
       "  'exchange_flag_ci': 241},\n",
       " {'pair_ID': 1057391,\n",
       "  'search_main_text': 'BTC/USD',\n",
       "  'search_main_subtext': 'Index - Investing.com',\n",
       "  'search_main_longtext': 'Bitcoin',\n",
       "  'exchange_flag_ci': 241},\n",
       " {'pair_ID': 1055949,\n",
       "  'search_main_text': 'BMC',\n",
       "  'search_main_subtext': 'FX Future - ICE',\n",
       "  'search_main_longtext': 'Bitcoin Futures CME',\n",
       "  'exchange_flag_ci': 5},\n",
       " {'pair_ID': 33,\n",
       "  'search_main_text': 'BTC/PLN',\n",
       "  'search_main_subtext': 'BitBay',\n",
       "  'search_main_longtext': 'BTC/PLN',\n",
       "  'exchange_flag_ci': 241},\n",
       " {'pair_ID': 49800,\n",
       "  'search_main_text': 'BTC/EUR',\n",
       "  'search_main_subtext': 'Kraken',\n",
       "  'search_main_longtext': 'BTC/EUR',\n",
       "  'exchange_flag_ci': 241},\n",
       " {'pair_ID': 940808,\n",
       "  'search_main_text': 'BTC/KRW',\n",
       "  'search_main_subtext': 'Bithumb',\n",
       "  'search_main_longtext': 'BTC/KRW',\n",
       "  'exchange_flag_ci': 241},\n",
       " {'pair_ID': 997700,\n",
       "  'search_main_text': 'BTC/XAU',\n",
       "  'search_main_subtext': 'Synthetic',\n",
       "  'search_main_longtext': 'BTC/XAU',\n",
       "  'exchange_flag_ci': 241},\n",
       " {'pair_ID': 1010776,\n",
       "  'search_main_text': 'ETH/BTC',\n",
       "  'search_main_subtext': 'Poloniex',\n",
       "  'search_main_longtext': 'ETH/BTC',\n",
       "  'exchange_flag_ci': 249},\n",
       " {'pair_ID': 1010778,\n",
       "  'search_main_text': 'SC/BTC',\n",
       "  'search_main_subtext': 'Poloniex',\n",
       "  'search_main_longtext': 'SC/BTC',\n",
       "  'exchange_flag_ci': 251},\n",
       " {'pair_ID': 1010783,\n",
       "  'search_main_text': 'DASH/BTC',\n",
       "  'search_main_subtext': 'Poloniex',\n",
       "  'search_main_longtext': 'DASH/BTC',\n",
       "  'exchange_flag_ci': 252},\n",
       " {'pair_ID': 1010882,\n",
       "  'search_main_text': 'ETC/BTC',\n",
       "  'search_main_subtext': 'Poloniex',\n",
       "  'search_main_longtext': 'ETC/BTC',\n",
       "  'exchange_flag_ci': 253},\n",
       " {'pair_ID': 1014070,\n",
       "  'search_main_text': 'XMR/BTC',\n",
       "  'search_main_subtext': 'Poloniex',\n",
       "  'search_main_longtext': 'XMR/BTC',\n",
       "  'exchange_flag_ci': 255},\n",
       " {'pair_ID': 1024807,\n",
       "  'search_main_text': 'BTC/BRL',\n",
       "  'search_main_subtext': 'MercadoBitcoin',\n",
       "  'search_main_longtext': 'BTC/BRL',\n",
       "  'exchange_flag_ci': 241},\n",
       " {'pair_ID': 1025081,\n",
       "  'search_main_text': 'BTC/CAD',\n",
       "  'search_main_subtext': 'Kraken',\n",
       "  'search_main_longtext': 'BTC/CAD',\n",
       "  'exchange_flag_ci': 241},\n",
       " {'pair_ID': 1031042,\n",
       "  'search_main_text': 'BCH/BTC',\n",
       "  'search_main_subtext': 'Bittrex',\n",
       "  'search_main_longtext': 'BCH/BTC',\n",
       "  'exchange_flag_ci': 268},\n",
       " {'pair_ID': 1031051,\n",
       "  'search_main_text': 'BCH/ETH',\n",
       "  'search_main_subtext': 'Bittrex',\n",
       "  'search_main_longtext': 'BCH/ETH',\n",
       "  'exchange_flag_ci': 268},\n",
       " {'pair_ID': 1031064,\n",
       "  'search_main_text': 'STRAX/BTC',\n",
       "  'search_main_subtext': 'Bittrex',\n",
       "  'search_main_longtext': 'STRAX/BTC',\n",
       "  'exchange_flag_ci': 261},\n",
       " {'pair_ID': 1031065,\n",
       "  'search_main_text': 'WAVES/BTC',\n",
       "  'search_main_subtext': 'Bittrex',\n",
       "  'search_main_longtext': 'WAVES/BTC',\n",
       "  'exchange_flag_ci': 266},\n",
       " {'pair_ID': 1031066,\n",
       "  'search_main_text': 'STEEM/BTC',\n",
       "  'search_main_subtext': 'Bittrex',\n",
       "  'search_main_longtext': 'STEEM/BTC',\n",
       "  'exchange_flag_ci': 265},\n",
       " {'pair_ID': 1031069,\n",
       "  'search_main_text': 'IOTA/BTC',\n",
       "  'search_main_subtext': 'Bitfinex',\n",
       "  'search_main_longtext': 'IOTA/BTC',\n",
       "  'exchange_flag_ci': 260},\n",
       " {'pair_ID': 1031071,\n",
       "  'search_main_text': 'QTUM/BTC',\n",
       "  'search_main_subtext': 'Bittrex',\n",
       "  'search_main_longtext': 'QTUM/BTC',\n",
       "  'exchange_flag_ci': 267},\n",
       " {'pair_ID': 1031085,\n",
       "  'search_main_text': 'BCH/EUR',\n",
       "  'search_main_subtext': 'Kraken',\n",
       "  'search_main_longtext': 'BCH/EUR',\n",
       "  'exchange_flag_ci': 268},\n",
       " {'pair_ID': 1031332,\n",
       "  'search_main_text': 'BCH/PLN',\n",
       "  'search_main_subtext': 'BitBay',\n",
       "  'search_main_longtext': 'BCH/PLN',\n",
       "  'exchange_flag_ci': 268},\n",
       " {'pair_ID': 1031396,\n",
       "  'search_main_text': 'BCH/KRW',\n",
       "  'search_main_subtext': 'Bithumb',\n",
       "  'search_main_longtext': 'BCH/KRW',\n",
       "  'exchange_flag_ci': 268},\n",
       " {'pair_ID': 1031678,\n",
       "  'search_main_text': 'BTC/RUB',\n",
       "  'search_main_subtext': 'Exmo',\n",
       "  'search_main_longtext': 'BTC/RUB',\n",
       "  'exchange_flag_ci': 241},\n",
       " {'pair_ID': 1031687,\n",
       "  'search_main_text': 'BTC/UAH',\n",
       "  'search_main_subtext': 'Exmo',\n",
       "  'search_main_longtext': 'BTC/UAH',\n",
       "  'exchange_flag_ci': 241}]"
      ]
     },
     "execution_count": 13,
     "metadata": {},
     "output_type": "execute_result"
    }
   ],
   "source": [
    "indexes = []\n",
    "indexes = response.json()['data']['pairs_attr']\n",
    "indexes"
   ]
  },
  {
   "cell_type": "markdown",
   "metadata": {},
   "source": [
    "In the list above, it is possible to see some indexes related to Bitcoin. BTC/USD from Investig.com (with ID: 1057391) will be used in the project.<br>"
   ]
  },
  {
   "cell_type": "code",
   "execution_count": 13,
   "metadata": {},
   "outputs": [],
   "source": [
    "id_BTC = '1057391'\n",
    "date_from = '03062021'\n",
    "date_to = '09062021'\n",
    "\n",
    "url = \"https://investing-cryptocurrency-markets.p.rapidapi.com/coins/get-historical-data\"\n",
    "\n",
    "querystring = {\"pair_ID\":id_BTC,\"date_from\":date_from,\"date_to\":date_to,\"lang_ID\":\"1\",\"interval\":\"day\"}\n",
    "\n",
    "headers = {\n",
    "    'x-rapidapi-key': \"66081a705amsh4d45e344ba26380p11e931jsn67415eecbe4f\",\n",
    "    'x-rapidapi-host': \"investing-cryptocurrency-markets.p.rapidapi.com\"\n",
    "    }\n",
    "\n",
    "response_prices = requests.request(\"GET\", url, headers=headers, params=querystring)"
   ]
  },
  {
   "cell_type": "code",
   "execution_count": 14,
   "metadata": {},
   "outputs": [],
   "source": [
    "prices = response_prices.json()['data'][0]['screen_data']['data']"
   ]
  },
  {
   "cell_type": "code",
   "execution_count": 18,
   "metadata": {},
   "outputs": [],
   "source": [
    "prices_list = []\n",
    "for item in prices:\n",
    "    a = list(item.values())\n",
    "    a.pop()\n",
    "    a.pop()\n",
    "    a.pop()\n",
    "    del a[0]\n",
    "    a1 = []\n",
    "    for s in a:\n",
    "        x=list(s)\n",
    "        x.remove(\",\")\n",
    "        s1=\"\".join(x)\n",
    "        a1.append(s1)\n",
    "    a1 = list(map(float, a1))\n",
    "    prices_list.append(a1)\n",
    "prices_list_1 = prices_list[::-1]"
   ]
  },
  {
   "cell_type": "markdown",
   "metadata": {},
   "source": [
    "> __Note__ The list has been reversed because the data were ordered from the highest date to the lowest one.<br>\n",
    "\n",
    "Once all the information are stored in lists, it is a good practise to insert them in matrixes and then in data frames.<br>"
   ]
  },
  {
   "cell_type": "code",
   "execution_count": 19,
   "metadata": {},
   "outputs": [],
   "source": [
    "import numpy as np\n",
    "matrix = np.array(prices_list_1)"
   ]
  },
  {
   "cell_type": "code",
   "execution_count": 21,
   "metadata": {},
   "outputs": [],
   "source": [
    "import pandas as pd\n",
    "rows = [d.strftime('%d-%m-%Y') for d in pd.date_range('20210603','20210609')]\n",
    "col=['Price','Open Price','Highest Price','Lowest Price']\n",
    "data = pd.DataFrame(matrix, columns=col, index=rows)"
   ]
  },
  {
   "cell_type": "code",
   "execution_count": 22,
   "metadata": {},
   "outputs": [
    {
     "data": {
      "text/html": [
       "<div>\n",
       "<style scoped>\n",
       "    .dataframe tbody tr th:only-of-type {\n",
       "        vertical-align: middle;\n",
       "    }\n",
       "\n",
       "    .dataframe tbody tr th {\n",
       "        vertical-align: top;\n",
       "    }\n",
       "\n",
       "    .dataframe thead th {\n",
       "        text-align: right;\n",
       "    }\n",
       "</style>\n",
       "<table border=\"1\" class=\"dataframe\">\n",
       "  <thead>\n",
       "    <tr style=\"text-align: right;\">\n",
       "      <th></th>\n",
       "      <th>Price</th>\n",
       "      <th>Open Price</th>\n",
       "      <th>Highest Price</th>\n",
       "      <th>Lowest Price</th>\n",
       "    </tr>\n",
       "  </thead>\n",
       "  <tbody>\n",
       "    <tr>\n",
       "      <th>03-06-2021</th>\n",
       "      <td>39187.3</td>\n",
       "      <td>37555.7</td>\n",
       "      <td>39462.3</td>\n",
       "      <td>37193.6</td>\n",
       "    </tr>\n",
       "    <tr>\n",
       "      <th>04-06-2021</th>\n",
       "      <td>36851.3</td>\n",
       "      <td>39191.4</td>\n",
       "      <td>39255.4</td>\n",
       "      <td>35659.9</td>\n",
       "    </tr>\n",
       "    <tr>\n",
       "      <th>05-06-2021</th>\n",
       "      <td>35520.0</td>\n",
       "      <td>36841.2</td>\n",
       "      <td>37887.6</td>\n",
       "      <td>34832.0</td>\n",
       "    </tr>\n",
       "    <tr>\n",
       "      <th>06-06-2021</th>\n",
       "      <td>35815.4</td>\n",
       "      <td>35518.7</td>\n",
       "      <td>36434.0</td>\n",
       "      <td>35265.3</td>\n",
       "    </tr>\n",
       "    <tr>\n",
       "      <th>07-06-2021</th>\n",
       "      <td>33578.0</td>\n",
       "      <td>35815.4</td>\n",
       "      <td>36754.6</td>\n",
       "      <td>33410.1</td>\n",
       "    </tr>\n",
       "    <tr>\n",
       "      <th>08-06-2021</th>\n",
       "      <td>33382.9</td>\n",
       "      <td>33574.6</td>\n",
       "      <td>34047.8</td>\n",
       "      <td>31158.1</td>\n",
       "    </tr>\n",
       "    <tr>\n",
       "      <th>09-06-2021</th>\n",
       "      <td>37332.2</td>\n",
       "      <td>33385.5</td>\n",
       "      <td>37517.6</td>\n",
       "      <td>32428.6</td>\n",
       "    </tr>\n",
       "  </tbody>\n",
       "</table>\n",
       "</div>"
      ],
      "text/plain": [
       "              Price  Open Price  Highest Price  Lowest Price\n",
       "03-06-2021  39187.3     37555.7        39462.3       37193.6\n",
       "04-06-2021  36851.3     39191.4        39255.4       35659.9\n",
       "05-06-2021  35520.0     36841.2        37887.6       34832.0\n",
       "06-06-2021  35815.4     35518.7        36434.0       35265.3\n",
       "07-06-2021  33578.0     35815.4        36754.6       33410.1\n",
       "08-06-2021  33382.9     33574.6        34047.8       31158.1\n",
       "09-06-2021  37332.2     33385.5        37517.6       32428.6"
      ]
     },
     "execution_count": 22,
     "metadata": {},
     "output_type": "execute_result"
    }
   ],
   "source": [
    "data"
   ]
  },
  {
   "cell_type": "code",
   "execution_count": 71,
   "metadata": {},
   "outputs": [
    {
     "data": {
      "text/plain": [
       "<matplotlib.axes._subplots.AxesSubplot at 0x241ee40f788>"
      ]
     },
     "execution_count": 71,
     "metadata": {},
     "output_type": "execute_result"
    },
    {
     "data": {
      "image/png": "[encoded data removed]",
      "text/plain": [
       "<Figure size 1152x648 with 1 Axes>"
      ]
     },
     "metadata": {
      "needs_background": "light"
     },
     "output_type": "display_data"
    }
   ],
   "source": [
    "data.plot(figsize=(16,9), y=\"Price\")"
   ]
  },
  {
   "cell_type": "markdown",
   "metadata": {},
   "source": [
    "The preparation step is done, since the performances of Bitcoin between 03 June and 09 June have been visualized.<br>"
   ]
  },
  {
   "cell_type": "markdown",
   "metadata": {},
   "source": [
    "## Import Tweets\n",
    "The next step is importing tweets about bitcoin.<br>"
   ]
  },
  {
   "cell_type": "code",
   "execution_count": 24,
   "metadata": {},
   "outputs": [],
   "source": [
    "from TwitterAPI import TwitterAPI\n",
    "api = TwitterAPI('GQ7ny8Zo2Pa7B1ukVOPPrN0Yl', 'V66iB79Cr9QXCjs9oxLzO9U7QfrfUl5XSKKo72alCTdya10Icg',\n",
    "                 '1398200019648397314-TmKXlyEp3lkkN7hmyMlA4MVRvm1w2h', 'SaSkeUgmEoBXNZCc7Sk03thusBGbXvfPtNFTCJIyi1Bve')"
   ]
  },
  {
   "cell_type": "code",
   "execution_count": 42,
   "metadata": {},
   "outputs": [],
   "source": [
    "tweets = {}\n",
    "first_day = 3 # 3 June\n",
    "last_day = 10 # 9 June\n",
    "x = 0\n",
    "for i in range(first_day, last_day):\n",
    "    j = i + 1\n",
    "    r = api.request('search/tweets', {'q':'%23bitcoin', 'count':100, 'since':'2021-06-0'+str(i), 'until':'2021-06-0'+str(j), 'lang':'en'})\n",
    "    tweets[x] = r.json()['statuses']\n",
    "    x = x + 1"
   ]
  },
  {
   "cell_type": "markdown",
   "metadata": {},
   "source": [
    "> __Note__ This process will take a few seconds.<br>"
   ]
  },
  {
   "cell_type": "markdown",
   "metadata": {},
   "source": [
    "Now, the list ``tweets`` contain 6 entries, each one referring the tweets posted a specific day about bitcoin. For instance, below all the tweet creation date about tweets posted on 5 June:<br>"
   ]
  },
  {
   "cell_type": "code",
   "execution_count": 47,
   "metadata": {},
   "outputs": [
    {
     "name": "stdout",
     "output_type": "stream",
     "text": [
      "Sat Jun 05 23:59:59 +0000 2021\n",
      "Sat Jun 05 23:59:59 +0000 2021\n",
      "Sat Jun 05 23:59:58 +0000 2021\n",
      "Sat Jun 05 23:59:58 +0000 2021\n",
      "Sat Jun 05 23:59:58 +0000 2021\n",
      "Sat Jun 05 23:59:58 +0000 2021\n",
      "Sat Jun 05 23:59:58 +0000 2021\n",
      "Sat Jun 05 23:59:58 +0000 2021\n",
      "Sat Jun 05 23:59:58 +0000 2021\n",
      "Sat Jun 05 23:59:57 +0000 2021\n",
      "Sat Jun 05 23:59:57 +0000 2021\n",
      "Sat Jun 05 23:59:57 +0000 2021\n",
      "Sat Jun 05 23:59:56 +0000 2021\n",
      "Sat Jun 05 23:59:56 +0000 2021\n",
      "Sat Jun 05 23:59:55 +0000 2021\n",
      "Sat Jun 05 23:59:55 +0000 2021\n",
      "Sat Jun 05 23:59:55 +0000 2021\n",
      "Sat Jun 05 23:59:55 +0000 2021\n",
      "Sat Jun 05 23:59:55 +0000 2021\n",
      "Sat Jun 05 23:59:55 +0000 2021\n",
      "Sat Jun 05 23:59:54 +0000 2021\n",
      "Sat Jun 05 23:59:54 +0000 2021\n",
      "Sat Jun 05 23:59:54 +0000 2021\n",
      "Sat Jun 05 23:59:53 +0000 2021\n",
      "Sat Jun 05 23:59:53 +0000 2021\n",
      "Sat Jun 05 23:59:52 +0000 2021\n",
      "Sat Jun 05 23:59:51 +0000 2021\n",
      "Sat Jun 05 23:59:51 +0000 2021\n",
      "Sat Jun 05 23:59:50 +0000 2021\n",
      "Sat Jun 05 23:59:50 +0000 2021\n",
      "Sat Jun 05 23:59:50 +0000 2021\n",
      "Sat Jun 05 23:59:50 +0000 2021\n",
      "Sat Jun 05 23:59:49 +0000 2021\n",
      "Sat Jun 05 23:59:48 +0000 2021\n",
      "Sat Jun 05 23:59:48 +0000 2021\n",
      "Sat Jun 05 23:59:48 +0000 2021\n",
      "Sat Jun 05 23:59:47 +0000 2021\n",
      "Sat Jun 05 23:59:47 +0000 2021\n",
      "Sat Jun 05 23:59:47 +0000 2021\n",
      "Sat Jun 05 23:59:46 +0000 2021\n",
      "Sat Jun 05 23:59:45 +0000 2021\n",
      "Sat Jun 05 23:59:45 +0000 2021\n",
      "Sat Jun 05 23:59:45 +0000 2021\n",
      "Sat Jun 05 23:59:43 +0000 2021\n",
      "Sat Jun 05 23:59:43 +0000 2021\n",
      "Sat Jun 05 23:59:43 +0000 2021\n",
      "Sat Jun 05 23:59:42 +0000 2021\n",
      "Sat Jun 05 23:59:42 +0000 2021\n",
      "Sat Jun 05 23:59:42 +0000 2021\n",
      "Sat Jun 05 23:59:41 +0000 2021\n",
      "Sat Jun 05 23:59:41 +0000 2021\n",
      "Sat Jun 05 23:59:40 +0000 2021\n",
      "Sat Jun 05 23:59:39 +0000 2021\n",
      "Sat Jun 05 23:59:39 +0000 2021\n",
      "Sat Jun 05 23:59:38 +0000 2021\n",
      "Sat Jun 05 23:59:37 +0000 2021\n",
      "Sat Jun 05 23:59:36 +0000 2021\n",
      "Sat Jun 05 23:59:35 +0000 2021\n",
      "Sat Jun 05 23:59:34 +0000 2021\n",
      "Sat Jun 05 23:59:34 +0000 2021\n",
      "Sat Jun 05 23:59:33 +0000 2021\n",
      "Sat Jun 05 23:59:32 +0000 2021\n",
      "Sat Jun 05 23:59:32 +0000 2021\n",
      "Sat Jun 05 23:59:31 +0000 2021\n",
      "Sat Jun 05 23:59:31 +0000 2021\n",
      "Sat Jun 05 23:59:31 +0000 2021\n",
      "Sat Jun 05 23:59:31 +0000 2021\n",
      "Sat Jun 05 23:59:30 +0000 2021\n",
      "Sat Jun 05 23:59:30 +0000 2021\n",
      "Sat Jun 05 23:59:29 +0000 2021\n",
      "Sat Jun 05 23:59:29 +0000 2021\n",
      "Sat Jun 05 23:59:29 +0000 2021\n",
      "Sat Jun 05 23:59:29 +0000 2021\n",
      "Sat Jun 05 23:59:28 +0000 2021\n",
      "Sat Jun 05 23:59:28 +0000 2021\n",
      "Sat Jun 05 23:59:28 +0000 2021\n",
      "Sat Jun 05 23:59:27 +0000 2021\n",
      "Sat Jun 05 23:59:27 +0000 2021\n",
      "Sat Jun 05 23:59:26 +0000 2021\n",
      "Sat Jun 05 23:59:26 +0000 2021\n",
      "Sat Jun 05 23:59:25 +0000 2021\n",
      "Sat Jun 05 23:59:25 +0000 2021\n",
      "Sat Jun 05 23:59:25 +0000 2021\n",
      "Sat Jun 05 23:59:24 +0000 2021\n",
      "Sat Jun 05 23:59:24 +0000 2021\n",
      "Sat Jun 05 23:59:23 +0000 2021\n",
      "Sat Jun 05 23:59:23 +0000 2021\n",
      "Sat Jun 05 23:59:23 +0000 2021\n",
      "Sat Jun 05 23:59:22 +0000 2021\n",
      "Sat Jun 05 23:59:22 +0000 2021\n",
      "Sat Jun 05 23:59:21 +0000 2021\n",
      "Sat Jun 05 23:59:21 +0000 2021\n",
      "Sat Jun 05 23:59:21 +0000 2021\n",
      "Sat Jun 05 23:59:21 +0000 2021\n",
      "Sat Jun 05 23:59:20 +0000 2021\n",
      "Sat Jun 05 23:59:20 +0000 2021\n",
      "Sat Jun 05 23:59:20 +0000 2021\n",
      "Sat Jun 05 23:59:19 +0000 2021\n",
      "Sat Jun 05 23:59:19 +0000 2021\n",
      "Sat Jun 05 23:59:18 +0000 2021\n"
     ]
    }
   ],
   "source": [
    "for value in tweets[2]:\n",
    "    print(value['created_at'])"
   ]
  },
  {
   "cell_type": "markdown",
   "metadata": {},
   "source": [
    "## Sentiment Analysis\n",
    "Once the tweets have been imported and placed in ``tweets``, the sentiment step can begin.<br>\n",
    "\n",
    "Since the sentiment analysis of the tweets will be done on thei texts, it is a good practise to create a dictionary where, for each key (day), there is a list of tweet texts.<br>"
   ]
  },
  {
   "cell_type": "code",
   "execution_count": 48,
   "metadata": {},
   "outputs": [],
   "source": [
    "texts = dict()\n",
    "texts['Day 1']=[]\n",
    "texts['Day 2']=[]\n",
    "texts['Day 3']=[]\n",
    "texts['Day 4']=[]\n",
    "texts['Day 5']=[]\n",
    "texts['Day 6']=[]\n",
    "texts['Day 7']=[]\n",
    "x = 1\n",
    "for i in range(0, 7):\n",
    "    list_of_texts = []\n",
    "    for tweet in tweets[i]:\n",
    "        list_of_texts.append(tweet['text'])\n",
    "    day = 'Day '+str(x)\n",
    "    texts[day]=list_of_texts\n",
    "    x = x + 1"
   ]
  },
  {
   "cell_type": "markdown",
   "metadata": {},
   "source": [
    "Now the VADER procedure will begin. Firstly, it is necessary to download the VADER lexicon.<br>"
   ]
  },
  {
   "cell_type": "code",
   "execution_count": 267,
   "metadata": {},
   "outputs": [
    {
     "name": "stderr",
     "output_type": "stream",
     "text": [
      "[nltk_data] Downloading package vader_lexicon to\n",
      "[nltk_data]     C:\\Users\\Miko\\AppData\\Roaming\\nltk_data...\n"
     ]
    },
    {
     "data": {
      "text/plain": [
       "True"
      ]
     },
     "execution_count": 267,
     "metadata": {},
     "output_type": "execute_result"
    }
   ],
   "source": [
    "import nltk\n",
    "nltk.download('vader_lexicon')"
   ]
  },
  {
   "cell_type": "markdown",
   "metadata": {},
   "source": [
    "Next, it will be used a method to evaluate the sentiment according to the measurement: negative, positive and neutral. Then, a dictionary will be created. For each key (day), a list of sentiment object corresponds.<br>"
   ]
  },
  {
   "cell_type": "code",
   "execution_count": 28,
   "metadata": {},
   "outputs": [],
   "source": [
    "from nltk.sentiment.vader import SentimentIntensityAnalyzer\n",
    "sid = SentimentIntensityAnalyzer()"
   ]
  },
  {
   "cell_type": "code",
   "execution_count": 49,
   "metadata": {},
   "outputs": [],
   "source": [
    "sentiments = dict()\n",
    "sentiments['Day 1']=[]\n",
    "sentiments['Day 2']=[]\n",
    "sentiments['Day 3']=[]\n",
    "sentiments['Day 4']=[]\n",
    "sentiments['Day 5']=[]\n",
    "sentiments['Day 6']=[]\n",
    "sentiments['Day 7']=[]\n",
    "x = 1\n",
    "for i in range(1, 8):\n",
    "    list_of_sentiments = []\n",
    "    for text in texts['Day '+str(i)]:\n",
    "        list_of_sentiments.append(sid.polarity_scores(text))\n",
    "    day = 'Day '+str(x)\n",
    "    sentiments[day]=list_of_sentiments\n",
    "    x = x + 1"
   ]
  },
  {
   "cell_type": "markdown",
   "metadata": {},
   "source": [
    "For example, let's take the sentiment of the 97th tweet of the day 7 inside the new dictionary (that will be compared with the value calculated directly without the dictionary to show that all the values are placed correctly within the sentiment dictionary).<br>"
   ]
  },
  {
   "cell_type": "code",
   "execution_count": 54,
   "metadata": {},
   "outputs": [
    {
     "name": "stdout",
     "output_type": "stream",
     "text": [
      "{'neg': 0.0, 'neu': 0.704, 'pos': 0.296, 'compound': 0.2732} {'neg': 0.0, 'neu': 0.704, 'pos': 0.296, 'compound': 0.2732}\n"
     ]
    }
   ],
   "source": [
    "print(sentiments['Day 7'][97], sid.polarity_scores(texts['Day 7'][97]))"
   ]
  },
  {
   "cell_type": "code",
   "execution_count": 55,
   "metadata": {},
   "outputs": [
    {
     "data": {
      "text/plain": [
       "[0.0, 0.704, 0.296, 0.2732]"
      ]
     },
     "execution_count": 55,
     "metadata": {},
     "output_type": "execute_result"
    }
   ],
   "source": [
    "list(sid.polarity_scores(texts['Day 7'][97]).values())"
   ]
  },
  {
   "cell_type": "markdown",
   "metadata": {},
   "source": [
    "To simplify the subsequent calculations, it is a good choice to create a copy of the previous dictionary changing each object referring to the sentiment with a list.<br>"
   ]
  },
  {
   "cell_type": "code",
   "execution_count": 56,
   "metadata": {},
   "outputs": [],
   "source": [
    "sentiments2 = dict()\n",
    "sentiments2['Day 1']=[]\n",
    "sentiments2['Day 2']=[]\n",
    "sentiments2['Day 3']=[]\n",
    "sentiments2['Day 4']=[]\n",
    "sentiments2['Day 5']=[]\n",
    "sentiments2['Day 6']=[]\n",
    "sentiments2['Day 7']=[]\n",
    "x = 1\n",
    "for item in sentiments.values():\n",
    "    list_of_sentiments2 = []\n",
    "    for s in item:\n",
    "        v = list(s.values())\n",
    "        list_of_sentiments2.append(v)\n",
    "    day = 'Day '+str(x)\n",
    "    sentiments2[day]=list_of_sentiments2\n",
    "    x = x + 1"
   ]
  },
  {
   "cell_type": "markdown",
   "metadata": {},
   "source": [
    "Below a check if the new dictionary value matches the old dictionary value.<br>"
   ]
  },
  {
   "cell_type": "code",
   "execution_count": 58,
   "metadata": {},
   "outputs": [
    {
     "name": "stdout",
     "output_type": "stream",
     "text": [
      "[0.0, 0.633, 0.367, 0.8511] {'neg': 0.0, 'neu': 0.633, 'pos': 0.367, 'compound': 0.8511}\n"
     ]
    }
   ],
   "source": [
    "print(sentiments2['Day 7'][65], sentiments['Day 7'][65])"
   ]
  },
  {
   "cell_type": "markdown",
   "metadata": {},
   "source": [
    "Then, a new matrix will be created: for each row (day), it will have an average measurements of the sentiments (neg, pos, neu) of the tweets of that day.<br>"
   ]
  },
  {
   "cell_type": "code",
   "execution_count": 59,
   "metadata": {},
   "outputs": [],
   "source": [
    "final_matrix = np.array([np.array(sentiments2['Day 1']).mean(0), np.array(sentiments2['Day 2']).mean(0), np.array(sentiments2['Day 3']).mean(0), np.array(sentiments2['Day 4']).mean(0), np.array(sentiments2['Day 5']).mean(0), np.array(sentiments2['Day 6']).mean(0), np.array(sentiments2['Day 7']).mean(0)])"
   ]
  },
  {
   "cell_type": "code",
   "execution_count": 60,
   "metadata": {},
   "outputs": [
    {
     "data": {
      "text/plain": [
       "array([[0.01965 , 0.91223 , 0.06812 , 0.126507],\n",
       "       [0.02055 , 0.90473 , 0.07472 , 0.132749],\n",
       "       [0.02807 , 0.86165 , 0.11023 , 0.169029],\n",
       "       [0.02821 , 0.90652 , 0.06525 , 0.098777],\n",
       "       [0.01366 , 0.92366 , 0.06268 , 0.127173],\n",
       "       [0.03631 , 0.8739  , 0.0898  , 0.137369],\n",
       "       [0.00856 , 0.86256 , 0.12888 , 0.220869]])"
      ]
     },
     "execution_count": 60,
     "metadata": {},
     "output_type": "execute_result"
    }
   ],
   "source": [
    "final_matrix"
   ]
  },
  {
   "cell_type": "code",
   "execution_count": 66,
   "metadata": {},
   "outputs": [],
   "source": [
    "import pandas as pd\n",
    "rows = [d.strftime('%d-%m-%Y') for d in pd.date_range('20210603','20210609')]\n",
    "col=['Negatives','Neutrals','Positives','Compound']\n",
    "sentiment_frame = pd.DataFrame(final_matrix, columns=col, index=rows)"
   ]
  },
  {
   "cell_type": "code",
   "execution_count": 67,
   "metadata": {},
   "outputs": [
    {
     "data": {
      "text/html": [
       "<div>\n",
       "<style scoped>\n",
       "    .dataframe tbody tr th:only-of-type {\n",
       "        vertical-align: middle;\n",
       "    }\n",
       "\n",
       "    .dataframe tbody tr th {\n",
       "        vertical-align: top;\n",
       "    }\n",
       "\n",
       "    .dataframe thead th {\n",
       "        text-align: right;\n",
       "    }\n",
       "</style>\n",
       "<table border=\"1\" class=\"dataframe\">\n",
       "  <thead>\n",
       "    <tr style=\"text-align: right;\">\n",
       "      <th></th>\n",
       "      <th>Negatives</th>\n",
       "      <th>Neutrals</th>\n",
       "      <th>Positives</th>\n",
       "      <th>Compound</th>\n",
       "    </tr>\n",
       "  </thead>\n",
       "  <tbody>\n",
       "    <tr>\n",
       "      <th>03-06-2021</th>\n",
       "      <td>0.01965</td>\n",
       "      <td>0.91223</td>\n",
       "      <td>0.06812</td>\n",
       "      <td>0.126507</td>\n",
       "    </tr>\n",
       "    <tr>\n",
       "      <th>04-06-2021</th>\n",
       "      <td>0.02055</td>\n",
       "      <td>0.90473</td>\n",
       "      <td>0.07472</td>\n",
       "      <td>0.132749</td>\n",
       "    </tr>\n",
       "    <tr>\n",
       "      <th>05-06-2021</th>\n",
       "      <td>0.02807</td>\n",
       "      <td>0.86165</td>\n",
       "      <td>0.11023</td>\n",
       "      <td>0.169029</td>\n",
       "    </tr>\n",
       "    <tr>\n",
       "      <th>06-06-2021</th>\n",
       "      <td>0.02821</td>\n",
       "      <td>0.90652</td>\n",
       "      <td>0.06525</td>\n",
       "      <td>0.098777</td>\n",
       "    </tr>\n",
       "    <tr>\n",
       "      <th>07-06-2021</th>\n",
       "      <td>0.01366</td>\n",
       "      <td>0.92366</td>\n",
       "      <td>0.06268</td>\n",
       "      <td>0.127173</td>\n",
       "    </tr>\n",
       "    <tr>\n",
       "      <th>08-06-2021</th>\n",
       "      <td>0.03631</td>\n",
       "      <td>0.87390</td>\n",
       "      <td>0.08980</td>\n",
       "      <td>0.137369</td>\n",
       "    </tr>\n",
       "    <tr>\n",
       "      <th>09-06-2021</th>\n",
       "      <td>0.00856</td>\n",
       "      <td>0.86256</td>\n",
       "      <td>0.12888</td>\n",
       "      <td>0.220869</td>\n",
       "    </tr>\n",
       "  </tbody>\n",
       "</table>\n",
       "</div>"
      ],
      "text/plain": [
       "            Negatives  Neutrals  Positives  Compound\n",
       "03-06-2021    0.01965   0.91223    0.06812  0.126507\n",
       "04-06-2021    0.02055   0.90473    0.07472  0.132749\n",
       "05-06-2021    0.02807   0.86165    0.11023  0.169029\n",
       "06-06-2021    0.02821   0.90652    0.06525  0.098777\n",
       "07-06-2021    0.01366   0.92366    0.06268  0.127173\n",
       "08-06-2021    0.03631   0.87390    0.08980  0.137369\n",
       "09-06-2021    0.00856   0.86256    0.12888  0.220869"
      ]
     },
     "execution_count": 67,
     "metadata": {},
     "output_type": "execute_result"
    }
   ],
   "source": [
    "sentiment_frame"
   ]
  },
  {
   "cell_type": "markdown",
   "metadata": {},
   "source": [
    "## Comparison\n",
    "Now that a view of the sentiment of the tweets posted within 6 days and the actual Bitcoin price are ready and evaluated, it is possible to compare the two indexes. <br>"
   ]
  },
  {
   "cell_type": "code",
   "execution_count": 68,
   "metadata": {},
   "outputs": [
    {
     "data": {
      "text/html": [
       "<div>\n",
       "<style scoped>\n",
       "    .dataframe tbody tr th:only-of-type {\n",
       "        vertical-align: middle;\n",
       "    }\n",
       "\n",
       "    .dataframe tbody tr th {\n",
       "        vertical-align: top;\n",
       "    }\n",
       "\n",
       "    .dataframe thead th {\n",
       "        text-align: right;\n",
       "    }\n",
       "</style>\n",
       "<table border=\"1\" class=\"dataframe\">\n",
       "  <thead>\n",
       "    <tr style=\"text-align: right;\">\n",
       "      <th></th>\n",
       "      <th>Price</th>\n",
       "      <th>Open Price</th>\n",
       "      <th>Highest Price</th>\n",
       "      <th>Lowest Price</th>\n",
       "    </tr>\n",
       "  </thead>\n",
       "  <tbody>\n",
       "    <tr>\n",
       "      <th>03-06-2021</th>\n",
       "      <td>39187.3</td>\n",
       "      <td>37555.7</td>\n",
       "      <td>39462.3</td>\n",
       "      <td>37193.6</td>\n",
       "    </tr>\n",
       "    <tr>\n",
       "      <th>04-06-2021</th>\n",
       "      <td>36851.3</td>\n",
       "      <td>39191.4</td>\n",
       "      <td>39255.4</td>\n",
       "      <td>35659.9</td>\n",
       "    </tr>\n",
       "    <tr>\n",
       "      <th>05-06-2021</th>\n",
       "      <td>35520.0</td>\n",
       "      <td>36841.2</td>\n",
       "      <td>37887.6</td>\n",
       "      <td>34832.0</td>\n",
       "    </tr>\n",
       "    <tr>\n",
       "      <th>06-06-2021</th>\n",
       "      <td>35815.4</td>\n",
       "      <td>35518.7</td>\n",
       "      <td>36434.0</td>\n",
       "      <td>35265.3</td>\n",
       "    </tr>\n",
       "    <tr>\n",
       "      <th>07-06-2021</th>\n",
       "      <td>33578.0</td>\n",
       "      <td>35815.4</td>\n",
       "      <td>36754.6</td>\n",
       "      <td>33410.1</td>\n",
       "    </tr>\n",
       "    <tr>\n",
       "      <th>08-06-2021</th>\n",
       "      <td>33382.9</td>\n",
       "      <td>33574.6</td>\n",
       "      <td>34047.8</td>\n",
       "      <td>31158.1</td>\n",
       "    </tr>\n",
       "    <tr>\n",
       "      <th>09-06-2021</th>\n",
       "      <td>37332.2</td>\n",
       "      <td>33385.5</td>\n",
       "      <td>37517.6</td>\n",
       "      <td>32428.6</td>\n",
       "    </tr>\n",
       "  </tbody>\n",
       "</table>\n",
       "</div>"
      ],
      "text/plain": [
       "              Price  Open Price  Highest Price  Lowest Price\n",
       "03-06-2021  39187.3     37555.7        39462.3       37193.6\n",
       "04-06-2021  36851.3     39191.4        39255.4       35659.9\n",
       "05-06-2021  35520.0     36841.2        37887.6       34832.0\n",
       "06-06-2021  35815.4     35518.7        36434.0       35265.3\n",
       "07-06-2021  33578.0     35815.4        36754.6       33410.1\n",
       "08-06-2021  33382.9     33574.6        34047.8       31158.1\n",
       "09-06-2021  37332.2     33385.5        37517.6       32428.6"
      ]
     },
     "execution_count": 68,
     "metadata": {},
     "output_type": "execute_result"
    }
   ],
   "source": [
    "data"
   ]
  },
  {
   "cell_type": "code",
   "execution_count": 70,
   "metadata": {},
   "outputs": [
    {
     "data": {
      "text/html": [
       "<div>\n",
       "<style scoped>\n",
       "    .dataframe tbody tr th:only-of-type {\n",
       "        vertical-align: middle;\n",
       "    }\n",
       "\n",
       "    .dataframe tbody tr th {\n",
       "        vertical-align: top;\n",
       "    }\n",
       "\n",
       "    .dataframe thead th {\n",
       "        text-align: right;\n",
       "    }\n",
       "</style>\n",
       "<table border=\"1\" class=\"dataframe\">\n",
       "  <thead>\n",
       "    <tr style=\"text-align: right;\">\n",
       "      <th></th>\n",
       "      <th>Negatives</th>\n",
       "      <th>Neutrals</th>\n",
       "      <th>Positives</th>\n",
       "      <th>Compound</th>\n",
       "    </tr>\n",
       "  </thead>\n",
       "  <tbody>\n",
       "    <tr>\n",
       "      <th>03-06-2021</th>\n",
       "      <td>0.01965</td>\n",
       "      <td>0.91223</td>\n",
       "      <td>0.06812</td>\n",
       "      <td>0.126507</td>\n",
       "    </tr>\n",
       "    <tr>\n",
       "      <th>04-06-2021</th>\n",
       "      <td>0.02055</td>\n",
       "      <td>0.90473</td>\n",
       "      <td>0.07472</td>\n",
       "      <td>0.132749</td>\n",
       "    </tr>\n",
       "    <tr>\n",
       "      <th>05-06-2021</th>\n",
       "      <td>0.02807</td>\n",
       "      <td>0.86165</td>\n",
       "      <td>0.11023</td>\n",
       "      <td>0.169029</td>\n",
       "    </tr>\n",
       "    <tr>\n",
       "      <th>06-06-2021</th>\n",
       "      <td>0.02821</td>\n",
       "      <td>0.90652</td>\n",
       "      <td>0.06525</td>\n",
       "      <td>0.098777</td>\n",
       "    </tr>\n",
       "    <tr>\n",
       "      <th>07-06-2021</th>\n",
       "      <td>0.01366</td>\n",
       "      <td>0.92366</td>\n",
       "      <td>0.06268</td>\n",
       "      <td>0.127173</td>\n",
       "    </tr>\n",
       "    <tr>\n",
       "      <th>08-06-2021</th>\n",
       "      <td>0.03631</td>\n",
       "      <td>0.87390</td>\n",
       "      <td>0.08980</td>\n",
       "      <td>0.137369</td>\n",
       "    </tr>\n",
       "    <tr>\n",
       "      <th>09-06-2021</th>\n",
       "      <td>0.00856</td>\n",
       "      <td>0.86256</td>\n",
       "      <td>0.12888</td>\n",
       "      <td>0.220869</td>\n",
       "    </tr>\n",
       "  </tbody>\n",
       "</table>\n",
       "</div>"
      ],
      "text/plain": [
       "            Negatives  Neutrals  Positives  Compound\n",
       "03-06-2021    0.01965   0.91223    0.06812  0.126507\n",
       "04-06-2021    0.02055   0.90473    0.07472  0.132749\n",
       "05-06-2021    0.02807   0.86165    0.11023  0.169029\n",
       "06-06-2021    0.02821   0.90652    0.06525  0.098777\n",
       "07-06-2021    0.01366   0.92366    0.06268  0.127173\n",
       "08-06-2021    0.03631   0.87390    0.08980  0.137369\n",
       "09-06-2021    0.00856   0.86256    0.12888  0.220869"
      ]
     },
     "execution_count": 70,
     "metadata": {},
     "output_type": "execute_result"
    }
   ],
   "source": [
    "sentiment_frame"
   ]
  },
  {
   "cell_type": "code",
   "execution_count": 74,
   "metadata": {},
   "outputs": [
    {
     "data": {
      "text/plain": [
       "<matplotlib.axes._subplots.AxesSubplot at 0x241ef83b808>"
      ]
     },
     "execution_count": 74,
     "metadata": {},
     "output_type": "execute_result"
    },
    {
     "data": {
      "image/png": "[encoded data removed]",
      "text/plain": [
       "<Figure size 1152x648 with 1 Axes>"
      ]
     },
     "metadata": {
      "needs_background": "light"
     },
     "output_type": "display_data"
    }
   ],
   "source": [
    "data.plot(figsize=(16,9), y=[\"Highest Price\", 'Open Price'])"
   ]
  },
  {
   "cell_type": "code",
   "execution_count": 75,
   "metadata": {},
   "outputs": [
    {
     "data": {
      "text/plain": [
       "<matplotlib.axes._subplots.AxesSubplot at 0x241efaa8608>"
      ]
     },
     "execution_count": 75,
     "metadata": {},
     "output_type": "execute_result"
    },
    {
     "data": {
      "image/png": "[encoded data removed]",
      "text/plain": [
       "<Figure size 1152x648 with 1 Axes>"
      ]
     },
     "metadata": {
      "needs_background": "light"
     },
     "output_type": "display_data"
    }
   ],
   "source": [
    "sentiment_frame.plot(figsize=(16,9), y=[\"Positives\", 'Negatives'])"
   ]
  },
  {
   "cell_type": "markdown",
   "metadata": {},
   "source": [
    "From the comparison the first thing that is possible to see is the correlation between the sentiment of the tweets and the actual value of Bitcoin.<br>\n",
    "\n",
    "Looking at the sentiment, on 5 June the sentiment of the tweets had a high positive trend, and it is possible to say that it affected the Bitcoin price, since during the day 6 June its price began slightly to rise.<br>\n",
    "\n",
    "> __Note__ It is possible to assume that if people are positive about Bitcoin, they tend to buy stocks, and as a result the price increases (not instantanelly, but around a few days).\n",
    "\n",
    "For the same concept, on 6 June the positive sentiment of the tweets dicreased, affecting the Bitcoin price, which on 7 June started to drop dramatically. Again, while on 7 June the positive sentiment started to rise again, this brought an huge raise in Bitcoin price on 8 June.<br>"
   ]
  },
  {
   "cell_type": "markdown",
   "metadata": {},
   "source": [
    "This close the sentiment analysis phase of the project, showing that analyizing tweets, and particularly knowing the people current idea about Bitcoin can give good statistics about Bitcoin Price and how the market reacts.<br>\n",
    "\n",
    "> __Note__ Obviously, the analysis would have been much more performing if more data and a bigger time interval were used. But for reasons connected with the twitter developing platform, this is not possible.<br>\n",
    "\n",
    "> __Note__ For the same reason, if the project is looked after some days, it is necessary to change some values, such as the time range when the tweets are collected in, and so on."
   ]
  },
  {
   "cell_type": "markdown",
   "metadata": {},
   "source": [
    "<br><br>\n",
    "# 3 - Regression\n",
    "The second phase of the project is a regression that aim to evaluate a prediction of the Bitcoin price.<br>\n",
    "## Preparation\n",
    "To start this first phase of the project, some steps are necessary.<br>\n",
    "\n",
    "As the sentiment analysis phase, obtaining Bitcoin data and visualizing it is a good choice, in order to take a time interval for the analysis. __Investing.com__ and its API will be again used to get all the data needed for the project.<br>"
   ]
  },
  {
   "cell_type": "code",
   "execution_count": 51,
   "metadata": {},
   "outputs": [],
   "source": [
    "import requests\n",
    "id_BTC = '1057391'\n",
    "date_from = '01062020'\n",
    "date_to = '31052021'\n",
    "\n",
    "url = \"https://investing-cryptocurrency-markets.p.rapidapi.com/coins/get-historical-data\"\n",
    "\n",
    "querystring = {\"pair_ID\":id_BTC,\"date_from\":date_from,\"date_to\":date_to,\"lang_ID\":\"1\",\"interval\":\"day\"}\n",
    "\n",
    "headers = {\n",
    "    'x-rapidapi-key': \"66081a705amsh4d45e344ba26380p11e931jsn67415eecbe4f\",\n",
    "    'x-rapidapi-host': \"investing-cryptocurrency-markets.p.rapidapi.com\"\n",
    "    }\n",
    "\n",
    "response_prices = requests.request(\"GET\", url, headers=headers, params=querystring)"
   ]
  },
  {
   "cell_type": "code",
   "execution_count": 52,
   "metadata": {},
   "outputs": [],
   "source": [
    "prices = response_prices.json()['data'][0]['screen_data']['data']"
   ]
  },
  {
   "cell_type": "code",
   "execution_count": 53,
   "metadata": {},
   "outputs": [],
   "source": [
    "prices_list = []\n",
    "for item in prices:\n",
    "    a = list(item.values())\n",
    "    a.pop()\n",
    "    a.pop()\n",
    "    a.pop()\n",
    "    del a[0]\n",
    "    a1 = []\n",
    "    for s in a:\n",
    "        x=list(s)\n",
    "        x.remove(\",\")\n",
    "        s1=\"\".join(x)\n",
    "        a1.append(s1)\n",
    "    a1 = list(map(float, a1))\n",
    "    prices_list.append(a1)\n",
    "prices_list_1 = prices_list[::-1]"
   ]
  },
  {
   "cell_type": "markdown",
   "metadata": {},
   "source": [
    "> __Note__ The list has been reversed because the data were ordered from the highest date to the lowest one.<br>\n",
    "\n",
    "Once all the information are stored in lists, it is a good practise to insert them in matrixes and then in data frames.<br>"
   ]
  },
  {
   "cell_type": "code",
   "execution_count": 54,
   "metadata": {},
   "outputs": [],
   "source": [
    "import numpy as np\n",
    "matrix = np.array(prices_list_1)"
   ]
  },
  {
   "cell_type": "code",
   "execution_count": 55,
   "metadata": {},
   "outputs": [],
   "source": [
    "import pandas as pd\n",
    "rows = [d.strftime('%Y-%m-%d') for d in pd.date_range('20200601','20210531')]\n",
    "col=['Price','Open Price','Highest Price','Lowest Price']\n",
    "data_big = pd.DataFrame(matrix, columns=col, index=rows)"
   ]
  },
  {
   "cell_type": "code",
   "execution_count": 56,
   "metadata": {},
   "outputs": [
    {
     "data": {
      "text/html": [
       "<div>\n",
       "<style scoped>\n",
       "    .dataframe tbody tr th:only-of-type {\n",
       "        vertical-align: middle;\n",
       "    }\n",
       "\n",
       "    .dataframe tbody tr th {\n",
       "        vertical-align: top;\n",
       "    }\n",
       "\n",
       "    .dataframe thead th {\n",
       "        text-align: right;\n",
       "    }\n",
       "</style>\n",
       "<table border=\"1\" class=\"dataframe\">\n",
       "  <thead>\n",
       "    <tr style=\"text-align: right;\">\n",
       "      <th></th>\n",
       "      <th>Price</th>\n",
       "      <th>Open Price</th>\n",
       "      <th>Highest Price</th>\n",
       "      <th>Lowest Price</th>\n",
       "    </tr>\n",
       "  </thead>\n",
       "  <tbody>\n",
       "    <tr>\n",
       "      <th>2020-06-01</th>\n",
       "      <td>10189.3</td>\n",
       "      <td>9454.5</td>\n",
       "      <td>10301.8</td>\n",
       "      <td>9429.7</td>\n",
       "    </tr>\n",
       "    <tr>\n",
       "      <th>2020-06-02</th>\n",
       "      <td>9527.6</td>\n",
       "      <td>10190.7</td>\n",
       "      <td>10207.3</td>\n",
       "      <td>9347.3</td>\n",
       "    </tr>\n",
       "    <tr>\n",
       "      <th>2020-06-03</th>\n",
       "      <td>9667.2</td>\n",
       "      <td>9527.0</td>\n",
       "      <td>9667.2</td>\n",
       "      <td>9421.7</td>\n",
       "    </tr>\n",
       "    <tr>\n",
       "      <th>2020-06-04</th>\n",
       "      <td>9794.4</td>\n",
       "      <td>9667.2</td>\n",
       "      <td>9864.4</td>\n",
       "      <td>9490.9</td>\n",
       "    </tr>\n",
       "    <tr>\n",
       "      <th>2020-06-05</th>\n",
       "      <td>9631.2</td>\n",
       "      <td>9794.0</td>\n",
       "      <td>9846.1</td>\n",
       "      <td>9628.7</td>\n",
       "    </tr>\n",
       "    <tr>\n",
       "      <th>...</th>\n",
       "      <td>...</td>\n",
       "      <td>...</td>\n",
       "      <td>...</td>\n",
       "      <td>...</td>\n",
       "    </tr>\n",
       "    <tr>\n",
       "      <th>2021-05-27</th>\n",
       "      <td>38417.3</td>\n",
       "      <td>39249.0</td>\n",
       "      <td>40322.2</td>\n",
       "      <td>37190.8</td>\n",
       "    </tr>\n",
       "    <tr>\n",
       "      <th>2021-05-28</th>\n",
       "      <td>35662.5</td>\n",
       "      <td>38543.2</td>\n",
       "      <td>38844.1</td>\n",
       "      <td>34772.4</td>\n",
       "    </tr>\n",
       "    <tr>\n",
       "      <th>2021-05-29</th>\n",
       "      <td>34584.6</td>\n",
       "      <td>35664.5</td>\n",
       "      <td>37227.1</td>\n",
       "      <td>33664.2</td>\n",
       "    </tr>\n",
       "    <tr>\n",
       "      <th>2021-05-30</th>\n",
       "      <td>35652.8</td>\n",
       "      <td>34589.3</td>\n",
       "      <td>36388.6</td>\n",
       "      <td>33441.0</td>\n",
       "    </tr>\n",
       "    <tr>\n",
       "      <th>2021-05-31</th>\n",
       "      <td>37298.6</td>\n",
       "      <td>35644.0</td>\n",
       "      <td>37480.7</td>\n",
       "      <td>34213.2</td>\n",
       "    </tr>\n",
       "  </tbody>\n",
       "</table>\n",
       "<p>365 rows × 4 columns</p>\n",
       "</div>"
      ],
      "text/plain": [
       "              Price  Open Price  Highest Price  Lowest Price\n",
       "2020-06-01  10189.3      9454.5        10301.8        9429.7\n",
       "2020-06-02   9527.6     10190.7        10207.3        9347.3\n",
       "2020-06-03   9667.2      9527.0         9667.2        9421.7\n",
       "2020-06-04   9794.4      9667.2         9864.4        9490.9\n",
       "2020-06-05   9631.2      9794.0         9846.1        9628.7\n",
       "...             ...         ...            ...           ...\n",
       "2021-05-27  38417.3     39249.0        40322.2       37190.8\n",
       "2021-05-28  35662.5     38543.2        38844.1       34772.4\n",
       "2021-05-29  34584.6     35664.5        37227.1       33664.2\n",
       "2021-05-30  35652.8     34589.3        36388.6       33441.0\n",
       "2021-05-31  37298.6     35644.0        37480.7       34213.2\n",
       "\n",
       "[365 rows x 4 columns]"
      ]
     },
     "execution_count": 56,
     "metadata": {},
     "output_type": "execute_result"
    }
   ],
   "source": [
    "data_big"
   ]
  },
  {
   "cell_type": "code",
   "execution_count": 57,
   "metadata": {},
   "outputs": [
    {
     "data": {
      "text/plain": [
       "<matplotlib.axes._subplots.AxesSubplot at 0x28ef968eb08>"
      ]
     },
     "execution_count": 57,
     "metadata": {},
     "output_type": "execute_result"
    },
    {
     "data": {
      "image/png": "[encoded data removed]",
      "text/plain": [
       "<Figure size 1152x648 with 1 Axes>"
      ]
     },
     "metadata": {
      "needs_background": "light"
     },
     "output_type": "display_data"
    }
   ],
   "source": [
    "data_big.plot(figsize=(16,9), y=\"Price\")"
   ]
  },
  {
   "cell_type": "markdown",
   "metadata": {},
   "source": [
    "Price is the closing price of the title at the end of the working day, amd only this value among the 4 values will be used for the prediction.<br>\n",
    "\n",
    "It is a good practise to create another data frame containing only 2 columns: one for the data and one for the closing price.<br>"
   ]
  },
  {
   "cell_type": "code",
   "execution_count": 58,
   "metadata": {},
   "outputs": [],
   "source": [
    "data_small = pd.DataFrame(index=range(0,len(data_big)),columns=['Date', 'Close'])\n",
    "\n",
    "for i in range(0,len(data_big)):\n",
    "    data_small['Date'][i] = rows[i]\n",
    "    data_small['Close'][i] = data_big['Price'][i]"
   ]
  },
  {
   "cell_type": "code",
   "execution_count": 59,
   "metadata": {},
   "outputs": [
    {
     "data": {
      "text/html": [
       "<div>\n",
       "<style scoped>\n",
       "    .dataframe tbody tr th:only-of-type {\n",
       "        vertical-align: middle;\n",
       "    }\n",
       "\n",
       "    .dataframe tbody tr th {\n",
       "        vertical-align: top;\n",
       "    }\n",
       "\n",
       "    .dataframe thead th {\n",
       "        text-align: right;\n",
       "    }\n",
       "</style>\n",
       "<table border=\"1\" class=\"dataframe\">\n",
       "  <thead>\n",
       "    <tr style=\"text-align: right;\">\n",
       "      <th></th>\n",
       "      <th>Date</th>\n",
       "      <th>Close</th>\n",
       "    </tr>\n",
       "  </thead>\n",
       "  <tbody>\n",
       "    <tr>\n",
       "      <th>0</th>\n",
       "      <td>2020-06-01</td>\n",
       "      <td>10189.3</td>\n",
       "    </tr>\n",
       "    <tr>\n",
       "      <th>1</th>\n",
       "      <td>2020-06-02</td>\n",
       "      <td>9527.6</td>\n",
       "    </tr>\n",
       "    <tr>\n",
       "      <th>2</th>\n",
       "      <td>2020-06-03</td>\n",
       "      <td>9667.2</td>\n",
       "    </tr>\n",
       "    <tr>\n",
       "      <th>3</th>\n",
       "      <td>2020-06-04</td>\n",
       "      <td>9794.4</td>\n",
       "    </tr>\n",
       "    <tr>\n",
       "      <th>4</th>\n",
       "      <td>2020-06-05</td>\n",
       "      <td>9631.2</td>\n",
       "    </tr>\n",
       "    <tr>\n",
       "      <th>...</th>\n",
       "      <td>...</td>\n",
       "      <td>...</td>\n",
       "    </tr>\n",
       "    <tr>\n",
       "      <th>360</th>\n",
       "      <td>2021-05-27</td>\n",
       "      <td>38417.3</td>\n",
       "    </tr>\n",
       "    <tr>\n",
       "      <th>361</th>\n",
       "      <td>2021-05-28</td>\n",
       "      <td>35662.5</td>\n",
       "    </tr>\n",
       "    <tr>\n",
       "      <th>362</th>\n",
       "      <td>2021-05-29</td>\n",
       "      <td>34584.6</td>\n",
       "    </tr>\n",
       "    <tr>\n",
       "      <th>363</th>\n",
       "      <td>2021-05-30</td>\n",
       "      <td>35652.8</td>\n",
       "    </tr>\n",
       "    <tr>\n",
       "      <th>364</th>\n",
       "      <td>2021-05-31</td>\n",
       "      <td>37298.6</td>\n",
       "    </tr>\n",
       "  </tbody>\n",
       "</table>\n",
       "<p>365 rows × 2 columns</p>\n",
       "</div>"
      ],
      "text/plain": [
       "           Date    Close\n",
       "0    2020-06-01  10189.3\n",
       "1    2020-06-02   9527.6\n",
       "2    2020-06-03   9667.2\n",
       "3    2020-06-04   9794.4\n",
       "4    2020-06-05   9631.2\n",
       "..          ...      ...\n",
       "360  2021-05-27  38417.3\n",
       "361  2021-05-28  35662.5\n",
       "362  2021-05-29  34584.6\n",
       "363  2021-05-30  35652.8\n",
       "364  2021-05-31  37298.6\n",
       "\n",
       "[365 rows x 2 columns]"
      ]
     },
     "execution_count": 59,
     "metadata": {},
     "output_type": "execute_result"
    }
   ],
   "source": [
    "data_small"
   ]
  },
  {
   "cell_type": "markdown",
   "metadata": {},
   "source": [
    "To represent data in a better way, it is a good practise to obtain a set of features that can be helpful in predicting stock price. <br>"
   ]
  },
  {
   "cell_type": "code",
   "execution_count": 60,
   "metadata": {},
   "outputs": [],
   "source": [
    "from fastai.tabular import  add_datepart\n",
    "\n",
    "data_features = pd.DataFrame(index=range(0,len(data_small)),columns=['Date', 'Close'])\n",
    "\n",
    "for i in range(0,len(data_small)):\n",
    "    data_features['Date'][i] = data_small['Date'][i]\n",
    "    data_features['Close'][i] = data_small['Close'][i]\n",
    "add_datepart(data_features, 'Date')\n",
    "data_features.drop('Elapsed', axis=1, inplace=True)"
   ]
  },
  {
   "cell_type": "code",
   "execution_count": 61,
   "metadata": {},
   "outputs": [
    {
     "data": {
      "text/html": [
       "<div>\n",
       "<style scoped>\n",
       "    .dataframe tbody tr th:only-of-type {\n",
       "        vertical-align: middle;\n",
       "    }\n",
       "\n",
       "    .dataframe tbody tr th {\n",
       "        vertical-align: top;\n",
       "    }\n",
       "\n",
       "    .dataframe thead th {\n",
       "        text-align: right;\n",
       "    }\n",
       "</style>\n",
       "<table border=\"1\" class=\"dataframe\">\n",
       "  <thead>\n",
       "    <tr style=\"text-align: right;\">\n",
       "      <th></th>\n",
       "      <th>Close</th>\n",
       "      <th>Year</th>\n",
       "      <th>Month</th>\n",
       "      <th>Week</th>\n",
       "      <th>Day</th>\n",
       "      <th>Dayofweek</th>\n",
       "      <th>Dayofyear</th>\n",
       "      <th>Is_month_end</th>\n",
       "      <th>Is_month_start</th>\n",
       "      <th>Is_quarter_end</th>\n",
       "      <th>Is_quarter_start</th>\n",
       "      <th>Is_year_end</th>\n",
       "      <th>Is_year_start</th>\n",
       "    </tr>\n",
       "  </thead>\n",
       "  <tbody>\n",
       "    <tr>\n",
       "      <th>0</th>\n",
       "      <td>10189.3</td>\n",
       "      <td>2020</td>\n",
       "      <td>6</td>\n",
       "      <td>23</td>\n",
       "      <td>1</td>\n",
       "      <td>0</td>\n",
       "      <td>153</td>\n",
       "      <td>False</td>\n",
       "      <td>True</td>\n",
       "      <td>False</td>\n",
       "      <td>False</td>\n",
       "      <td>False</td>\n",
       "      <td>False</td>\n",
       "    </tr>\n",
       "    <tr>\n",
       "      <th>1</th>\n",
       "      <td>9527.6</td>\n",
       "      <td>2020</td>\n",
       "      <td>6</td>\n",
       "      <td>23</td>\n",
       "      <td>2</td>\n",
       "      <td>1</td>\n",
       "      <td>154</td>\n",
       "      <td>False</td>\n",
       "      <td>False</td>\n",
       "      <td>False</td>\n",
       "      <td>False</td>\n",
       "      <td>False</td>\n",
       "      <td>False</td>\n",
       "    </tr>\n",
       "    <tr>\n",
       "      <th>2</th>\n",
       "      <td>9667.2</td>\n",
       "      <td>2020</td>\n",
       "      <td>6</td>\n",
       "      <td>23</td>\n",
       "      <td>3</td>\n",
       "      <td>2</td>\n",
       "      <td>155</td>\n",
       "      <td>False</td>\n",
       "      <td>False</td>\n",
       "      <td>False</td>\n",
       "      <td>False</td>\n",
       "      <td>False</td>\n",
       "      <td>False</td>\n",
       "    </tr>\n",
       "    <tr>\n",
       "      <th>3</th>\n",
       "      <td>9794.4</td>\n",
       "      <td>2020</td>\n",
       "      <td>6</td>\n",
       "      <td>23</td>\n",
       "      <td>4</td>\n",
       "      <td>3</td>\n",
       "      <td>156</td>\n",
       "      <td>False</td>\n",
       "      <td>False</td>\n",
       "      <td>False</td>\n",
       "      <td>False</td>\n",
       "      <td>False</td>\n",
       "      <td>False</td>\n",
       "    </tr>\n",
       "    <tr>\n",
       "      <th>4</th>\n",
       "      <td>9631.2</td>\n",
       "      <td>2020</td>\n",
       "      <td>6</td>\n",
       "      <td>23</td>\n",
       "      <td>5</td>\n",
       "      <td>4</td>\n",
       "      <td>157</td>\n",
       "      <td>False</td>\n",
       "      <td>False</td>\n",
       "      <td>False</td>\n",
       "      <td>False</td>\n",
       "      <td>False</td>\n",
       "      <td>False</td>\n",
       "    </tr>\n",
       "    <tr>\n",
       "      <th>...</th>\n",
       "      <td>...</td>\n",
       "      <td>...</td>\n",
       "      <td>...</td>\n",
       "      <td>...</td>\n",
       "      <td>...</td>\n",
       "      <td>...</td>\n",
       "      <td>...</td>\n",
       "      <td>...</td>\n",
       "      <td>...</td>\n",
       "      <td>...</td>\n",
       "      <td>...</td>\n",
       "      <td>...</td>\n",
       "      <td>...</td>\n",
       "    </tr>\n",
       "    <tr>\n",
       "      <th>360</th>\n",
       "      <td>38417.3</td>\n",
       "      <td>2021</td>\n",
       "      <td>5</td>\n",
       "      <td>21</td>\n",
       "      <td>27</td>\n",
       "      <td>3</td>\n",
       "      <td>147</td>\n",
       "      <td>False</td>\n",
       "      <td>False</td>\n",
       "      <td>False</td>\n",
       "      <td>False</td>\n",
       "      <td>False</td>\n",
       "      <td>False</td>\n",
       "    </tr>\n",
       "    <tr>\n",
       "      <th>361</th>\n",
       "      <td>35662.5</td>\n",
       "      <td>2021</td>\n",
       "      <td>5</td>\n",
       "      <td>21</td>\n",
       "      <td>28</td>\n",
       "      <td>4</td>\n",
       "      <td>148</td>\n",
       "      <td>False</td>\n",
       "      <td>False</td>\n",
       "      <td>False</td>\n",
       "      <td>False</td>\n",
       "      <td>False</td>\n",
       "      <td>False</td>\n",
       "    </tr>\n",
       "    <tr>\n",
       "      <th>362</th>\n",
       "      <td>34584.6</td>\n",
       "      <td>2021</td>\n",
       "      <td>5</td>\n",
       "      <td>21</td>\n",
       "      <td>29</td>\n",
       "      <td>5</td>\n",
       "      <td>149</td>\n",
       "      <td>False</td>\n",
       "      <td>False</td>\n",
       "      <td>False</td>\n",
       "      <td>False</td>\n",
       "      <td>False</td>\n",
       "      <td>False</td>\n",
       "    </tr>\n",
       "    <tr>\n",
       "      <th>363</th>\n",
       "      <td>35652.8</td>\n",
       "      <td>2021</td>\n",
       "      <td>5</td>\n",
       "      <td>21</td>\n",
       "      <td>30</td>\n",
       "      <td>6</td>\n",
       "      <td>150</td>\n",
       "      <td>False</td>\n",
       "      <td>False</td>\n",
       "      <td>False</td>\n",
       "      <td>False</td>\n",
       "      <td>False</td>\n",
       "      <td>False</td>\n",
       "    </tr>\n",
       "    <tr>\n",
       "      <th>364</th>\n",
       "      <td>37298.6</td>\n",
       "      <td>2021</td>\n",
       "      <td>5</td>\n",
       "      <td>22</td>\n",
       "      <td>31</td>\n",
       "      <td>0</td>\n",
       "      <td>151</td>\n",
       "      <td>True</td>\n",
       "      <td>False</td>\n",
       "      <td>False</td>\n",
       "      <td>False</td>\n",
       "      <td>False</td>\n",
       "      <td>False</td>\n",
       "    </tr>\n",
       "  </tbody>\n",
       "</table>\n",
       "<p>365 rows × 13 columns</p>\n",
       "</div>"
      ],
      "text/plain": [
       "       Close  Year  Month  Week  Day  Dayofweek  Dayofyear  Is_month_end  \\\n",
       "0    10189.3  2020      6    23    1          0        153         False   \n",
       "1     9527.6  2020      6    23    2          1        154         False   \n",
       "2     9667.2  2020      6    23    3          2        155         False   \n",
       "3     9794.4  2020      6    23    4          3        156         False   \n",
       "4     9631.2  2020      6    23    5          4        157         False   \n",
       "..       ...   ...    ...   ...  ...        ...        ...           ...   \n",
       "360  38417.3  2021      5    21   27          3        147         False   \n",
       "361  35662.5  2021      5    21   28          4        148         False   \n",
       "362  34584.6  2021      5    21   29          5        149         False   \n",
       "363  35652.8  2021      5    21   30          6        150         False   \n",
       "364  37298.6  2021      5    22   31          0        151          True   \n",
       "\n",
       "     Is_month_start  Is_quarter_end  Is_quarter_start  Is_year_end  \\\n",
       "0              True           False             False        False   \n",
       "1             False           False             False        False   \n",
       "2             False           False             False        False   \n",
       "3             False           False             False        False   \n",
       "4             False           False             False        False   \n",
       "..              ...             ...               ...          ...   \n",
       "360           False           False             False        False   \n",
       "361           False           False             False        False   \n",
       "362           False           False             False        False   \n",
       "363           False           False             False        False   \n",
       "364           False           False             False        False   \n",
       "\n",
       "     Is_year_start  \n",
       "0            False  \n",
       "1            False  \n",
       "2            False  \n",
       "3            False  \n",
       "4            False  \n",
       "..             ...  \n",
       "360          False  \n",
       "361          False  \n",
       "362          False  \n",
       "363          False  \n",
       "364          False  \n",
       "\n",
       "[365 rows x 13 columns]"
      ]
     },
     "execution_count": 61,
     "metadata": {},
     "output_type": "execute_result"
    }
   ],
   "source": [
    "data_features"
   ]
  },
  {
   "cell_type": "markdown",
   "metadata": {},
   "source": [
    "Now splitting the data set is necessary to proceed through the prediction.<br>\n",
    "\n",
    "> __Note__ While splitting the data into train and validation set, it is not possible to use random splitting since that will destroy the time component. So, here the last 2 months’s data were placed into test set and the 10 months’s data before that into training set."
   ]
  },
  {
   "cell_type": "code",
   "execution_count": 62,
   "metadata": {},
   "outputs": [],
   "source": [
    "training = data_features[:304]\n",
    "test = data_features[304:]"
   ]
  },
  {
   "cell_type": "markdown",
   "metadata": {},
   "source": [
    "The final step of the preparation is divide the two sets in labels and features.<br>"
   ]
  },
  {
   "cell_type": "code",
   "execution_count": 63,
   "metadata": {},
   "outputs": [],
   "source": [
    "x_training = training.drop('Close', axis=1)\n",
    "y_training = training['Close']\n",
    "x_test = test.drop('Close', axis=1)\n",
    "y_test = test['Close']"
   ]
  },
  {
   "cell_type": "markdown",
   "metadata": {},
   "source": [
    "## Regression procedure"
   ]
  },
  {
   "cell_type": "markdown",
   "metadata": {},
   "source": [
    "To fit a linear regressor to the data, we have to use the LinearRegression object of scikit-learn.<br>"
   ]
  },
  {
   "cell_type": "code",
   "execution_count": 64,
   "metadata": {},
   "outputs": [
    {
     "data": {
      "text/plain": [
       "LinearRegression(copy_X=True, fit_intercept=True, n_jobs=None, normalize=False)"
      ]
     },
     "execution_count": 64,
     "metadata": {},
     "output_type": "execute_result"
    }
   ],
   "source": [
    "from sklearn.linear_model import LinearRegression\n",
    "model = LinearRegression()\n",
    "model.fit(x_training,y_training)"
   ]
  },
  {
   "cell_type": "markdown",
   "metadata": {},
   "source": [
    "The fit method is used to tune the parameters of the regressor. In this case, it is used to provide (and memorize) the training set. We need also to provide both the input features and the corresponding labels.<br>\n",
    "\n",
    "A good practise is to calculate the RMSE. This performance measure is actually an error measure. A good regressor will obtain a small error. It is the sum of the distances between the predicted value and the actual value.<br>"
   ]
  },
  {
   "cell_type": "code",
   "execution_count": 65,
   "metadata": {},
   "outputs": [
    {
     "data": {
      "text/plain": [
       "11480.946368776813"
      ]
     },
     "execution_count": 65,
     "metadata": {},
     "output_type": "execute_result"
    }
   ],
   "source": [
    "preds = model.predict(x_test)\n",
    "rms=np.sqrt(np.mean(np.power((np.array(y_test)-np.array(preds)),2)))\n",
    "rms"
   ]
  },
  {
   "cell_type": "markdown",
   "metadata": {},
   "source": [
    "To better see the prediction, it is necessary to plot it.<br>"
   ]
  },
  {
   "cell_type": "code",
   "execution_count": 69,
   "metadata": {},
   "outputs": [
    {
     "data": {
      "text/plain": [
       "[<matplotlib.lines.Line2D at 0x28efc1635c8>,\n",
       " <matplotlib.lines.Line2D at 0x28efc163ac8>]"
      ]
     },
     "execution_count": 69,
     "metadata": {},
     "output_type": "execute_result"
    },
    {
     "data": {
      "image/png": "[encoded data removed]",
      "text/plain": [
       "<Figure size 432x288 with 1 Axes>"
      ]
     },
     "metadata": {
      "needs_background": "light"
     },
     "output_type": "display_data"
    }
   ],
   "source": [
    "import matplotlib.pyplot as plt\n",
    "pd.set_option('mode.chained_assignment', None)\n",
    "test2 = test\n",
    "training2 = training\n",
    "test2['Predictions'] = 0\n",
    "test2['Predictions'] = preds\n",
    "\n",
    "\n",
    "test2.index = data_features[304:].index\n",
    "training2.index = data_features[:304].index\n",
    "\n",
    "plt.plot(training2['Close'])\n",
    "plt.plot(test2[['Close', 'Predictions']])"
   ]
  },
  {
   "cell_type": "markdown",
   "metadata": {},
   "source": [
    "As it is possible to see, the linear regression performed poorly. It only had a slighly nice result in predicting the small and sharp trend inversion. Except it, the trends go in different directions.<br>\n",
    "\n",
    "Obviously, the prediction of Bitcoin prices are affected by several factors, and not only by his historical data. In fact, it is possible to understand this side of the analysis by doing Fundamental Analysis, analyzing the company’s future profitability on the basis of its current business environment and financial performance. Of course the work of this project lies only on Technical Analysis, using a statistical approach.<br>"
   ]
  },
  {
   "cell_type": "markdown",
   "metadata": {},
   "source": [
    "## References\n",
    "[1] https://ftnnews.com/technology/41451-why-is-bitcoin-so-important-and-should-you-care. Accessed on 09 June 2021."
   ]
  },
  {
   "cell_type": "code",
   "execution_count": null,
   "metadata": {},
   "outputs": [],
   "source": []
  }
 ],
 "metadata": {
  "kernelspec": {
   "display_name": "Python 3",
   "language": "python",
   "name": "python3"
  },
  "language_info": {
   "codemirror_mode": {
    "name": "ipython",
    "version": 3
   },
   "file_extension": ".py",
   "mimetype": "text/x-python",
   "name": "python",
   "nbconvert_exporter": "python",
   "pygments_lexer": "ipython3",
   "version": "3.7.10"
  }
 },
 "nbformat": 4,
 "nbformat_minor": 4
}
